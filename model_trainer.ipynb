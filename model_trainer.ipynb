{
 "cells": [
  {
   "cell_type": "code",
   "execution_count": 1,
   "metadata": {},
   "outputs": [
    {
     "name": "stderr",
     "output_type": "stream",
     "text": [
      "C:\\Users\\RAMBABU\\Anaconda3\\lib\\site-packages\\h5py\\__init__.py:36: FutureWarning: Conversion of the second argument of issubdtype from `float` to `np.floating` is deprecated. In future, it will be treated as `np.float64 == np.dtype(float).type`.\n",
      "  from ._conv import register_converters as _register_converters\n",
      "Using TensorFlow backend.\n"
     ]
    }
   ],
   "source": [
    "import pandas as pd\n",
    "import numpy as np\n",
    "import matplotlib.pyplot as plt\n",
    "import matplotlib.image as mpimg\n",
    "import seaborn as sns\n",
    "%matplotlib inline\n",
    "\n",
    "np.random.seed(2)\n",
    "from skimage import io\n",
    "\n",
    "from sklearn.model_selection import train_test_split\n",
    "from sklearn.metrics import confusion_matrix\n",
    "import itertools\n",
    "\n",
    "from keras.utils.np_utils import to_categorical # convert to one-hot-encoding\n",
    "from keras.models import Sequential\n",
    "from keras.layers import Dense, Dropout, Flatten, Conv2D, MaxPool2D\n",
    "from keras.optimizers import RMSprop\n",
    "from keras.preprocessing import image\n",
    "from keras.preprocessing.image import ImageDataGenerator\n",
    "from keras.callbacks import ReduceLROnPlateau\n",
    "from keras.applications.imagenet_utils import preprocess_input\n",
    "\n",
    "\n",
    "sns.set(style='white', context='notebook', palette='deep')"
   ]
  },
  {
   "cell_type": "code",
   "execution_count": 2,
   "metadata": {},
   "outputs": [],
   "source": [
    "# Load the data\n",
    "train = pd.read_csv(\"train.csv\")\n",
    "test = pd.read_csv(\"test.csv\")"
   ]
  },
  {
   "cell_type": "code",
   "execution_count": 4,
   "metadata": {},
   "outputs": [
    {
     "data": {
      "text/plain": [
       "1    4684\n",
       "7    4401\n",
       "3    4351\n",
       "9    4188\n",
       "2    4177\n",
       "6    4137\n",
       "0    4132\n",
       "4    4072\n",
       "8    4063\n",
       "5    3795\n",
       "Name: label, dtype: int64"
      ]
     },
     "execution_count": 4,
     "metadata": {},
     "output_type": "execute_result"
    },
    {
     "data": {
      "image/png": "[encoded data removed]",
      "text/plain": [
       "<matplotlib.figure.Figure at 0x2129654b470>"
      ]
     },
     "metadata": {},
     "output_type": "display_data"
    }
   ],
   "source": [
    "Y_train = train[\"label\"]\n",
    "\n",
    "# Drop 'label' column\n",
    "X_train = train.drop(labels = [\"label\"],axis = 1) \n",
    "\n",
    "# free some space\n",
    "#del train \n",
    "\n",
    "g = sns.countplot(Y_train)\n",
    "\n",
    "Y_train.value_counts()"
   ]
  },
  {
   "cell_type": "code",
   "execution_count": 5,
   "metadata": {},
   "outputs": [
    {
     "data": {
      "text/plain": [
       "count       784\n",
       "unique        1\n",
       "top       False\n",
       "freq        784\n",
       "dtype: object"
      ]
     },
     "execution_count": 5,
     "metadata": {},
     "output_type": "execute_result"
    }
   ],
   "source": [
    "# Check the data\n",
    "X_train.isnull().any().describe()"
   ]
  },
  {
   "cell_type": "code",
   "execution_count": 6,
   "metadata": {},
   "outputs": [
    {
     "data": {
      "text/plain": [
       "count       784\n",
       "unique        1\n",
       "top       False\n",
       "freq        784\n",
       "dtype: object"
      ]
     },
     "execution_count": 6,
     "metadata": {},
     "output_type": "execute_result"
    }
   ],
   "source": [
    "test.isnull().any().describe()"
   ]
  },
  {
   "cell_type": "code",
   "execution_count": 7,
   "metadata": {},
   "outputs": [],
   "source": [
    "# Normalize the data\n",
    "X_train = X_train / 255.0\n",
    "test = test / 255.0"
   ]
  },
  {
   "cell_type": "code",
   "execution_count": 8,
   "metadata": {},
   "outputs": [],
   "source": [
    "# Reshape image in 3 dimensions (height = 28px, width = 28px , canal = 1)\n",
    "X_train = X_train.values.reshape(-1,28,28,1)\n",
    "test = test.values.reshape(-1,28,28,1)"
   ]
  },
  {
   "cell_type": "code",
   "execution_count": 9,
   "metadata": {},
   "outputs": [],
   "source": [
    "# Encode labels to one hot vectors (ex : 2 -> [0,0,1,0,0,0,0,0,0,0])\n",
    "Y_train = to_categorical(Y_train, num_classes = 10)"
   ]
  },
  {
   "cell_type": "code",
   "execution_count": 10,
   "metadata": {},
   "outputs": [],
   "source": [
    "X_train, X_val, Y_train, Y_val = train_test_split(X_train, Y_train, test_size = 0.1)"
   ]
  },
  {
   "cell_type": "code",
   "execution_count": 11,
   "metadata": {},
   "outputs": [],
   "source": [
    "# Set the CNN model \n",
    "# my CNN architechture is In -> [[Conv2D->relu]*2 -> MaxPool2D -> Dropout]*2 -> Flatten -> Dense -> Dropout -> Out\n",
    "\n",
    "model = Sequential()\n",
    "\n",
    "model.add(Conv2D(filters = 32, kernel_size = (5,5),padding = 'Same', \n",
    "                 activation ='relu', input_shape = (28,28,1)))\n",
    "model.add(Conv2D(filters = 32, kernel_size = (5,5),padding = 'Same', \n",
    "                 activation ='relu'))\n",
    "model.add(MaxPool2D(pool_size=(2,2)))\n",
    "model.add(Dropout(0.25))\n",
    "\n",
    "\n",
    "model.add(Conv2D(filters = 64, kernel_size = (3,3),padding = 'Same', \n",
    "                 activation ='relu'))\n",
    "model.add(Conv2D(filters = 64, kernel_size = (3,3),padding = 'Same', \n",
    "                 activation ='relu'))\n",
    "model.add(MaxPool2D(pool_size=(2,2), strides=(2,2)))\n",
    "model.add(Dropout(0.25))\n",
    "\n",
    "\n",
    "model.add(Flatten())\n",
    "model.add(Dense(256, activation = \"relu\"))\n",
    "model.add(Dropout(0.5))\n",
    "model.add(Dense(10, activation = \"softmax\"))\n",
    "\n",
    "#model.add(Conv2D(filters = 256, kernel_size = (7, 7), padding = 'valid',\n",
    "#                activation = 'relu'))\n",
    "#model.add(Dropout(0.5))\n",
    "#model.add(Conv2D(filters = 10, kernel_size = (1, 1), padding = 'Same',\n",
    "#                 activation = 'softmax'))\n",
    "#model.add(Flatten())"
   ]
  },
  {
   "cell_type": "code",
   "execution_count": 12,
   "metadata": {},
   "outputs": [],
   "source": [
    "optimizer = RMSprop(lr=0.001, rho=0.9, epsilon=1e-08, decay=0.0)"
   ]
  },
  {
   "cell_type": "code",
   "execution_count": 13,
   "metadata": {},
   "outputs": [],
   "source": [
    "model.compile(optimizer = optimizer , loss = \"categorical_crossentropy\", metrics=[\"accuracy\"])"
   ]
  },
  {
   "cell_type": "code",
   "execution_count": 14,
   "metadata": {},
   "outputs": [],
   "source": [
    "# Set a learning rate annealer\n",
    "learning_rate_reduction = ReduceLROnPlateau(monitor='val_acc', \n",
    "                                            patience=3, \n",
    "                                            verbose=1, \n",
    "                                            factor=0.5, \n",
    "                                            min_lr=0.00001)"
   ]
  },
  {
   "cell_type": "code",
   "execution_count": 15,
   "metadata": {},
   "outputs": [],
   "source": [
    "epochs = 30 # Turn epochs to 30 to get 0.9967 accuracy\n",
    "batch_size = 86"
   ]
  },
  {
   "cell_type": "code",
   "execution_count": 16,
   "metadata": {},
   "outputs": [],
   "source": [
    "# With data augmentation to prevent overfitting (accuracy 0.99286)\n",
    "\n",
    "datagen = ImageDataGenerator(\n",
    "        featurewise_center=False,  # set input mean to 0 over the dataset\n",
    "        samplewise_center=False,  # set each sample mean to 0\n",
    "        featurewise_std_normalization=False,  # divide inputs by std of the dataset\n",
    "        samplewise_std_normalization=False,  # divide each input by its std\n",
    "        zca_whitening=False,  # apply ZCA whitening\n",
    "        rotation_range=10,  # randomly rotate images in the range (degrees, 0 to 180)\n",
    "        zoom_range = 0.1, # Randomly zoom image \n",
    "        width_shift_range=0.1,  # randomly shift images horizontally (fraction of total width)\n",
    "        height_shift_range=0.1,  # randomly shift images vertically (fraction of total height)\n",
    "        horizontal_flip=False,  # randomly flip images\n",
    "        vertical_flip=False)  # randomly flip images\n",
    "\n",
    "\n",
    "datagen.fit(X_train)"
   ]
  },
  {
   "cell_type": "code",
   "execution_count": 17,
   "metadata": {},
   "outputs": [
    {
     "name": "stdout",
     "output_type": "stream",
     "text": [
      "Epoch 1/30\n",
      " - 54s - loss: 0.4184 - acc: 0.8664 - val_loss: 0.0621 - val_acc: 0.9807\n",
      "Epoch 2/30\n",
      " - 43s - loss: 0.1305 - acc: 0.9610 - val_loss: 0.0501 - val_acc: 0.9838\n",
      "Epoch 3/30\n",
      " - 42s - loss: 0.0933 - acc: 0.9725 - val_loss: 0.0370 - val_acc: 0.9898\n",
      "Epoch 4/30\n",
      " - 42s - loss: 0.0798 - acc: 0.9758 - val_loss: 0.0319 - val_acc: 0.9912\n",
      "Epoch 5/30\n",
      " - 42s - loss: 0.0727 - acc: 0.9782 - val_loss: 0.0270 - val_acc: 0.9917\n",
      "Epoch 6/30\n",
      " - 43s - loss: 0.0672 - acc: 0.9807 - val_loss: 0.0316 - val_acc: 0.9921\n",
      "Epoch 7/30\n",
      " - 42s - loss: 0.0636 - acc: 0.9814 - val_loss: 0.0244 - val_acc: 0.9929\n",
      "Epoch 8/30\n",
      " - 42s - loss: 0.0621 - acc: 0.9814 - val_loss: 0.0244 - val_acc: 0.9924\n",
      "Epoch 9/30\n",
      " - 42s - loss: 0.0619 - acc: 0.9830 - val_loss: 0.0245 - val_acc: 0.9931\n",
      "Epoch 10/30\n",
      " - 42s - loss: 0.0601 - acc: 0.9823 - val_loss: 0.0270 - val_acc: 0.9924\n",
      "Epoch 11/30\n",
      " - 42s - loss: 0.0609 - acc: 0.9833 - val_loss: 0.0268 - val_acc: 0.9907\n",
      "Epoch 12/30\n",
      " - 42s - loss: 0.0612 - acc: 0.9832 - val_loss: 0.0260 - val_acc: 0.9921\n",
      "Epoch 13/30\n",
      " - 42s - loss: 0.0616 - acc: 0.9832 - val_loss: 0.0467 - val_acc: 0.9869\n",
      "\n",
      "Epoch 00013: ReduceLROnPlateau reducing learning rate to 0.0005000000237487257.\n",
      "Epoch 14/30\n",
      " - 42s - loss: 0.0457 - acc: 0.9872 - val_loss: 0.0194 - val_acc: 0.9948\n",
      "Epoch 15/30\n",
      " - 42s - loss: 0.0445 - acc: 0.9876 - val_loss: 0.0175 - val_acc: 0.9950\n",
      "Epoch 16/30\n",
      " - 42s - loss: 0.0471 - acc: 0.9871 - val_loss: 0.0184 - val_acc: 0.9952\n",
      "Epoch 17/30\n",
      " - 42s - loss: 0.0443 - acc: 0.9878 - val_loss: 0.0280 - val_acc: 0.9936\n",
      "Epoch 18/30\n",
      " - 42s - loss: 0.0460 - acc: 0.9878 - val_loss: 0.0188 - val_acc: 0.9955\n",
      "Epoch 19/30\n",
      " - 42s - loss: 0.0435 - acc: 0.9883 - val_loss: 0.0238 - val_acc: 0.9936\n",
      "Epoch 20/30\n",
      " - 42s - loss: 0.0465 - acc: 0.9868 - val_loss: 0.0180 - val_acc: 0.9943\n",
      "Epoch 21/30\n",
      " - 42s - loss: 0.0475 - acc: 0.9864 - val_loss: 0.0187 - val_acc: 0.9948\n",
      "Epoch 22/30\n",
      " - 42s - loss: 0.0465 - acc: 0.9876 - val_loss: 0.0288 - val_acc: 0.9931\n",
      "\n",
      "Epoch 00022: ReduceLROnPlateau reducing learning rate to 0.0002500000118743628.\n",
      "Epoch 23/30\n",
      " - 42s - loss: 0.0374 - acc: 0.9901 - val_loss: 0.0191 - val_acc: 0.9945\n",
      "Epoch 24/30\n",
      " - 42s - loss: 0.0369 - acc: 0.9897 - val_loss: 0.0178 - val_acc: 0.9955\n",
      "Epoch 25/30\n",
      " - 42s - loss: 0.0379 - acc: 0.9895 - val_loss: 0.0184 - val_acc: 0.9950\n",
      "\n",
      "Epoch 00025: ReduceLROnPlateau reducing learning rate to 0.0001250000059371814.\n",
      "Epoch 26/30\n",
      " - 42s - loss: 0.0342 - acc: 0.9902 - val_loss: 0.0159 - val_acc: 0.9952\n",
      "Epoch 27/30\n",
      " - 42s - loss: 0.0322 - acc: 0.9907 - val_loss: 0.0203 - val_acc: 0.9955\n",
      "Epoch 28/30\n",
      " - 42s - loss: 0.0324 - acc: 0.9908 - val_loss: 0.0151 - val_acc: 0.9955\n",
      "\n",
      "Epoch 00028: ReduceLROnPlateau reducing learning rate to 6.25000029685907e-05.\n",
      "Epoch 29/30\n",
      " - 42s - loss: 0.0287 - acc: 0.9919 - val_loss: 0.0173 - val_acc: 0.9955\n",
      "Epoch 30/30\n",
      " - 42s - loss: 0.0278 - acc: 0.9922 - val_loss: 0.0151 - val_acc: 0.9952\n"
     ]
    }
   ],
   "source": [
    "history = model.fit_generator(datagen.flow(X_train,Y_train, batch_size=batch_size),\n",
    "                              epochs = epochs, validation_data = (X_val,Y_val),\n",
    "                              verbose = 2, steps_per_epoch=X_train.shape[0] // batch_size\n",
    "                              , callbacks=[learning_rate_reduction])"
   ]
  },
  {
   "cell_type": "code",
   "execution_count": 18,
   "metadata": {},
   "outputs": [],
   "source": [
    "model.save('model.h5')"
   ]
  }
 ],
 "metadata": {
  "kernelspec": {
   "display_name": "Python 3",
   "language": "python",
   "name": "python3"
  },
  "language_info": {
   "codemirror_mode": {
    "name": "ipython",
    "version": 3
   },
   "file_extension": ".py",
   "mimetype": "text/x-python",
   "name": "python",
   "nbconvert_exporter": "python",
   "pygments_lexer": "ipython3",
   "version": "3.6.4"
  }
 },
 "nbformat": 4,
 "nbformat_minor": 2
}
